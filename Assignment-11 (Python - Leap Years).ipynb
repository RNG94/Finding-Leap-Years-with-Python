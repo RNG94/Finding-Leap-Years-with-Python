{
 "cells": [
  {
   "cell_type": "code",
   "execution_count": 4,
   "id": "637b488f",
   "metadata": {},
   "outputs": [
    {
     "name": "stdout",
     "output_type": "stream",
     "text": [
      "Please write a digit year:1996\n",
      "This is a leap year!\n"
     ]
    }
   ],
   "source": [
    "year = int(input(\"Please write a digit year:\"))\n",
    "\n",
    "year_div4 = year % 4 == 0\n",
    "year_div100 = year % 100 != 0 \n",
    "year_div400 = year % 400 == 0\n",
    "\n",
    "if year_div4 and (year_div100 or year_div400):\n",
    "    print(\"This is a leap year!\")\n",
    "else:\n",
    "    print(\"I'm sorry, this isn't a leap year...\")"
   ]
  },
  {
   "cell_type": "code",
   "execution_count": null,
   "id": "c1f906de",
   "metadata": {},
   "outputs": [],
   "source": []
  }
 ],
 "metadata": {
  "kernelspec": {
   "display_name": "Python 3 (ipykernel)",
   "language": "python",
   "name": "python3"
  },
  "language_info": {
   "codemirror_mode": {
    "name": "ipython",
    "version": 3
   },
   "file_extension": ".py",
   "mimetype": "text/x-python",
   "name": "python",
   "nbconvert_exporter": "python",
   "pygments_lexer": "ipython3",
   "version": "3.9.12"
  }
 },
 "nbformat": 4,
 "nbformat_minor": 5
}
